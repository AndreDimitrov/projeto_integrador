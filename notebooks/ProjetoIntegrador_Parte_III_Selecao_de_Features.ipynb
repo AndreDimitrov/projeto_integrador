{
 "cells": [
  {
   "cell_type": "markdown",
   "metadata": {},
   "source": [
    "# Parte III - Importação das Libs - Features Selection"
   ]
  },
  {
   "cell_type": "code",
   "execution_count": 152,
   "metadata": {},
   "outputs": [
    {
     "name": "stdout",
     "output_type": "stream",
     "text": [
      "Requirement already satisfied: boruta in c:\\users\\breno\\anaconda3\\lib\\site-packages (0.3)\n",
      "Requirement already satisfied: scikit-learn>=0.17.1 in c:\\users\\breno\\anaconda3\\lib\\site-packages (from boruta) (0.23.2)\n",
      "Requirement already satisfied: scipy>=0.17.0 in c:\\users\\breno\\anaconda3\\lib\\site-packages (from boruta) (1.5.2)\n",
      "Requirement already satisfied: numpy>=1.10.4 in c:\\users\\breno\\anaconda3\\lib\\site-packages (from boruta) (1.19.2)\n",
      "Requirement already satisfied: threadpoolctl>=2.0.0 in c:\\users\\breno\\anaconda3\\lib\\site-packages (from scikit-learn>=0.17.1->boruta) (2.1.0)\n",
      "Requirement already satisfied: joblib>=0.11 in c:\\users\\breno\\anaconda3\\lib\\site-packages (from scikit-learn>=0.17.1->boruta) (0.17.0)\n"
     ]
    }
   ],
   "source": [
    "import numpy as np\n",
    "import sqlite3 as sql\n",
    "from tqdm import tqdm\n",
    "import glob\n",
    "import pandas as pd\n",
    "import datetime as dt\n",
    "import matplotlib.pyplot as plt\n",
    "import seaborn as sns\n",
    "from scipy import stats\n",
    "import feature_engine\n",
    "\n",
    "from sklearn.model_selection import train_test_split, StratifiedKFold\n",
    "from sklearn.feature_selection import RFECV, f_classif, chi2\n",
    "\n",
    "from scipy.stats import chi2_contingency\n",
    "from scipy.stats import pointbiserialr\n",
    "!pip install boruta\n",
    "from sklearn.linear_model import LogisticRegression\n",
    "from sklearn.pipeline import Pipeline\n",
    "from sklearn.compose import ColumnTransformer\n",
    "from sklearn.impute import SimpleImputer\n",
    "from sklearn.preprocessing import OrdinalEncoder\n",
    "from sklearn.ensemble import RandomForestClassifier\n",
    "from sklearn.feature_selection import RFECV\n",
    "from sklearn.model_selection import StratifiedKFold\n",
    "from boruta import BorutaPy\n",
    "from sklearn.metrics import roc_auc_score\n",
    "\n",
    "from sklearn.feature_selection import RFECV\n",
    "from sklearn.ensemble import RandomForestClassifier, RandomForestRegressor\n"
   ]
  },
  {
   "cell_type": "code",
   "execution_count": 153,
   "metadata": {},
   "outputs": [],
   "source": [
    "# CARREGANDO O DATAFRAME\n",
    "Queimadas_Pantanal = pd.read_csv('Queimadas_Pantanal_EDA.csv')"
   ]
  },
  {
   "cell_type": "code",
   "execution_count": 154,
   "metadata": {},
   "outputs": [
    {
     "data": {
      "text/plain": [
       "(2562, 13)"
      ]
     },
     "execution_count": 154,
     "metadata": {},
     "output_type": "execute_result"
    }
   ],
   "source": [
    "Queimadas_Pantanal.shape"
   ]
  },
  {
   "cell_type": "markdown",
   "metadata": {},
   "source": [
    "# Criação variável target"
   ]
  },
  {
   "cell_type": "code",
   "execution_count": 155,
   "metadata": {},
   "outputs": [],
   "source": [
    "conditions = [\n",
    "    (Queimadas_Pantanal['RISCO_FOGO'] <= 0.7),\n",
    "    (Queimadas_Pantanal['RISCO_FOGO'] > 0.7)\n",
    "    ]"
   ]
  },
  {
   "cell_type": "code",
   "execution_count": 156,
   "metadata": {},
   "outputs": [],
   "source": [
    "values = [False, True]"
   ]
  },
  {
   "cell_type": "code",
   "execution_count": 157,
   "metadata": {},
   "outputs": [],
   "source": [
    "Queimadas_Pantanal['ALERTA_FOGO'] = np.select(conditions, values)"
   ]
  },
  {
   "cell_type": "code",
   "execution_count": 158,
   "metadata": {},
   "outputs": [
    {
     "data": {
      "text/plain": [
       "array([1, 0])"
      ]
     },
     "execution_count": 158,
     "metadata": {},
     "output_type": "execute_result"
    }
   ],
   "source": [
    "Queimadas_Pantanal['ALERTA_FOGO'].unique()"
   ]
  },
  {
   "cell_type": "code",
   "execution_count": 160,
   "metadata": {},
   "outputs": [
    {
     "data": {
      "text/html": [
       "<div>\n",
       "<style scoped>\n",
       "    .dataframe tbody tr th:only-of-type {\n",
       "        vertical-align: middle;\n",
       "    }\n",
       "\n",
       "    .dataframe tbody tr th {\n",
       "        vertical-align: top;\n",
       "    }\n",
       "\n",
       "    .dataframe thead th {\n",
       "        text-align: right;\n",
       "    }\n",
       "</style>\n",
       "<table border=\"1\" class=\"dataframe\">\n",
       "  <thead>\n",
       "    <tr style=\"text-align: right;\">\n",
       "      <th></th>\n",
       "      <th>DATE</th>\n",
       "      <th>DIAS_SEM_CHUVA</th>\n",
       "      <th>RISCO_FOGO</th>\n",
       "      <th>PRECIPITACAO_DIARIA</th>\n",
       "      <th>PRESSAO_ATMOSFERICA</th>\n",
       "      <th>TEMPERATURA_PONTO_DE_ORVALHO</th>\n",
       "      <th>TEMPERATURA_MAXIMA</th>\n",
       "      <th>TEMPERATURA_MEDIA</th>\n",
       "      <th>TEMPERATURA_MINIMA</th>\n",
       "      <th>UMIDADE_RELATIVA_DO_AR_MEDIA</th>\n",
       "      <th>UMIDADE_RELATIVA_MINIMA_DO_AR</th>\n",
       "      <th>VENTO_RAJADA_MAXIMA</th>\n",
       "      <th>VENTO_VELOCIDADE_MEDIA</th>\n",
       "      <th>ALERTA_FOGO</th>\n",
       "    </tr>\n",
       "  </thead>\n",
       "  <tbody>\n",
       "    <tr>\n",
       "      <th>0</th>\n",
       "      <td>2014-01-03</td>\n",
       "      <td>2.0</td>\n",
       "      <td>0.8</td>\n",
       "      <td>0.0</td>\n",
       "      <td>995.71</td>\n",
       "      <td>21.03</td>\n",
       "      <td>32.7</td>\n",
       "      <td>26.46</td>\n",
       "      <td>21.6</td>\n",
       "      <td>74.21</td>\n",
       "      <td>47.0</td>\n",
       "      <td>5.1</td>\n",
       "      <td>0.65</td>\n",
       "      <td>1</td>\n",
       "    </tr>\n",
       "    <tr>\n",
       "      <th>4</th>\n",
       "      <td>2014-01-10</td>\n",
       "      <td>3.0</td>\n",
       "      <td>0.9</td>\n",
       "      <td>0.0</td>\n",
       "      <td>997.34</td>\n",
       "      <td>21.91</td>\n",
       "      <td>36.4</td>\n",
       "      <td>31.60</td>\n",
       "      <td>27.6</td>\n",
       "      <td>57.42</td>\n",
       "      <td>36.0</td>\n",
       "      <td>6.6</td>\n",
       "      <td>1.48</td>\n",
       "      <td>1</td>\n",
       "    </tr>\n",
       "    <tr>\n",
       "      <th>14</th>\n",
       "      <td>2014-01-31</td>\n",
       "      <td>4.0</td>\n",
       "      <td>1.0</td>\n",
       "      <td>0.0</td>\n",
       "      <td>998.38</td>\n",
       "      <td>20.65</td>\n",
       "      <td>34.4</td>\n",
       "      <td>28.00</td>\n",
       "      <td>23.3</td>\n",
       "      <td>65.63</td>\n",
       "      <td>42.0</td>\n",
       "      <td>5.6</td>\n",
       "      <td>1.16</td>\n",
       "      <td>1</td>\n",
       "    </tr>\n",
       "    <tr>\n",
       "      <th>17</th>\n",
       "      <td>2014-02-05</td>\n",
       "      <td>3.0</td>\n",
       "      <td>0.9</td>\n",
       "      <td>20.6</td>\n",
       "      <td>999.14</td>\n",
       "      <td>21.00</td>\n",
       "      <td>25.4</td>\n",
       "      <td>23.33</td>\n",
       "      <td>18.5</td>\n",
       "      <td>86.92</td>\n",
       "      <td>78.0</td>\n",
       "      <td>8.8</td>\n",
       "      <td>2.58</td>\n",
       "      <td>1</td>\n",
       "    </tr>\n",
       "    <tr>\n",
       "      <th>20</th>\n",
       "      <td>2014-02-08</td>\n",
       "      <td>0.0</td>\n",
       "      <td>1.0</td>\n",
       "      <td>0.0</td>\n",
       "      <td>1000.30</td>\n",
       "      <td>19.38</td>\n",
       "      <td>30.4</td>\n",
       "      <td>26.97</td>\n",
       "      <td>24.4</td>\n",
       "      <td>63.58</td>\n",
       "      <td>50.0</td>\n",
       "      <td>5.3</td>\n",
       "      <td>1.94</td>\n",
       "      <td>1</td>\n",
       "    </tr>\n",
       "    <tr>\n",
       "      <th>...</th>\n",
       "      <td>...</td>\n",
       "      <td>...</td>\n",
       "      <td>...</td>\n",
       "      <td>...</td>\n",
       "      <td>...</td>\n",
       "      <td>...</td>\n",
       "      <td>...</td>\n",
       "      <td>...</td>\n",
       "      <td>...</td>\n",
       "      <td>...</td>\n",
       "      <td>...</td>\n",
       "      <td>...</td>\n",
       "      <td>...</td>\n",
       "      <td>...</td>\n",
       "    </tr>\n",
       "    <tr>\n",
       "      <th>2542</th>\n",
       "      <td>2020-11-27</td>\n",
       "      <td>7.0</td>\n",
       "      <td>1.0</td>\n",
       "      <td>0.0</td>\n",
       "      <td>994.00</td>\n",
       "      <td>19.90</td>\n",
       "      <td>39.4</td>\n",
       "      <td>31.89</td>\n",
       "      <td>28.2</td>\n",
       "      <td>51.13</td>\n",
       "      <td>27.0</td>\n",
       "      <td>13.4</td>\n",
       "      <td>1.17</td>\n",
       "      <td>1</td>\n",
       "    </tr>\n",
       "    <tr>\n",
       "      <th>2548</th>\n",
       "      <td>2020-12-14</td>\n",
       "      <td>2.0</td>\n",
       "      <td>1.0</td>\n",
       "      <td>4.2</td>\n",
       "      <td>994.95</td>\n",
       "      <td>20.75</td>\n",
       "      <td>35.9</td>\n",
       "      <td>0.00</td>\n",
       "      <td>23.8</td>\n",
       "      <td>63.05</td>\n",
       "      <td>38.0</td>\n",
       "      <td>8.5</td>\n",
       "      <td>0.65</td>\n",
       "      <td>1</td>\n",
       "    </tr>\n",
       "    <tr>\n",
       "      <th>2551</th>\n",
       "      <td>2020-12-22</td>\n",
       "      <td>4.0</td>\n",
       "      <td>0.8</td>\n",
       "      <td>0.0</td>\n",
       "      <td>995.33</td>\n",
       "      <td>20.75</td>\n",
       "      <td>35.7</td>\n",
       "      <td>30.38</td>\n",
       "      <td>26.4</td>\n",
       "      <td>57.25</td>\n",
       "      <td>40.0</td>\n",
       "      <td>10.9</td>\n",
       "      <td>1.65</td>\n",
       "      <td>1</td>\n",
       "    </tr>\n",
       "    <tr>\n",
       "      <th>2552</th>\n",
       "      <td>2020-12-25</td>\n",
       "      <td>0.0</td>\n",
       "      <td>0.9</td>\n",
       "      <td>0.2</td>\n",
       "      <td>993.11</td>\n",
       "      <td>22.61</td>\n",
       "      <td>36.5</td>\n",
       "      <td>30.07</td>\n",
       "      <td>25.2</td>\n",
       "      <td>66.46</td>\n",
       "      <td>40.0</td>\n",
       "      <td>6.3</td>\n",
       "      <td>0.10</td>\n",
       "      <td>1</td>\n",
       "    </tr>\n",
       "    <tr>\n",
       "      <th>2553</th>\n",
       "      <td>2020-12-27</td>\n",
       "      <td>0.0</td>\n",
       "      <td>0.8</td>\n",
       "      <td>6.8</td>\n",
       "      <td>991.80</td>\n",
       "      <td>18.52</td>\n",
       "      <td>36.1</td>\n",
       "      <td>30.53</td>\n",
       "      <td>22.5</td>\n",
       "      <td>50.75</td>\n",
       "      <td>29.0</td>\n",
       "      <td>9.6</td>\n",
       "      <td>0.98</td>\n",
       "      <td>1</td>\n",
       "    </tr>\n",
       "  </tbody>\n",
       "</table>\n",
       "<p>1304 rows × 14 columns</p>\n",
       "</div>"
      ],
      "text/plain": [
       "            DATE  DIAS_SEM_CHUVA  RISCO_FOGO  PRECIPITACAO_DIARIA  \\\n",
       "0     2014-01-03             2.0         0.8                  0.0   \n",
       "4     2014-01-10             3.0         0.9                  0.0   \n",
       "14    2014-01-31             4.0         1.0                  0.0   \n",
       "17    2014-02-05             3.0         0.9                 20.6   \n",
       "20    2014-02-08             0.0         1.0                  0.0   \n",
       "...          ...             ...         ...                  ...   \n",
       "2542  2020-11-27             7.0         1.0                  0.0   \n",
       "2548  2020-12-14             2.0         1.0                  4.2   \n",
       "2551  2020-12-22             4.0         0.8                  0.0   \n",
       "2552  2020-12-25             0.0         0.9                  0.2   \n",
       "2553  2020-12-27             0.0         0.8                  6.8   \n",
       "\n",
       "      PRESSAO_ATMOSFERICA  TEMPERATURA_PONTO_DE_ORVALHO  TEMPERATURA_MAXIMA  \\\n",
       "0                  995.71                         21.03                32.7   \n",
       "4                  997.34                         21.91                36.4   \n",
       "14                 998.38                         20.65                34.4   \n",
       "17                 999.14                         21.00                25.4   \n",
       "20                1000.30                         19.38                30.4   \n",
       "...                   ...                           ...                 ...   \n",
       "2542               994.00                         19.90                39.4   \n",
       "2548               994.95                         20.75                35.9   \n",
       "2551               995.33                         20.75                35.7   \n",
       "2552               993.11                         22.61                36.5   \n",
       "2553               991.80                         18.52                36.1   \n",
       "\n",
       "      TEMPERATURA_MEDIA  TEMPERATURA_MINIMA  UMIDADE_RELATIVA_DO_AR_MEDIA  \\\n",
       "0                 26.46                21.6                         74.21   \n",
       "4                 31.60                27.6                         57.42   \n",
       "14                28.00                23.3                         65.63   \n",
       "17                23.33                18.5                         86.92   \n",
       "20                26.97                24.4                         63.58   \n",
       "...                 ...                 ...                           ...   \n",
       "2542              31.89                28.2                         51.13   \n",
       "2548               0.00                23.8                         63.05   \n",
       "2551              30.38                26.4                         57.25   \n",
       "2552              30.07                25.2                         66.46   \n",
       "2553              30.53                22.5                         50.75   \n",
       "\n",
       "      UMIDADE_RELATIVA_MINIMA_DO_AR  VENTO_RAJADA_MAXIMA  \\\n",
       "0                              47.0                  5.1   \n",
       "4                              36.0                  6.6   \n",
       "14                             42.0                  5.6   \n",
       "17                             78.0                  8.8   \n",
       "20                             50.0                  5.3   \n",
       "...                             ...                  ...   \n",
       "2542                           27.0                 13.4   \n",
       "2548                           38.0                  8.5   \n",
       "2551                           40.0                 10.9   \n",
       "2552                           40.0                  6.3   \n",
       "2553                           29.0                  9.6   \n",
       "\n",
       "      VENTO_VELOCIDADE_MEDIA  ALERTA_FOGO  \n",
       "0                       0.65            1  \n",
       "4                       1.48            1  \n",
       "14                      1.16            1  \n",
       "17                      2.58            1  \n",
       "20                      1.94            1  \n",
       "...                      ...          ...  \n",
       "2542                    1.17            1  \n",
       "2548                    0.65            1  \n",
       "2551                    1.65            1  \n",
       "2552                    0.10            1  \n",
       "2553                    0.98            1  \n",
       "\n",
       "[1304 rows x 14 columns]"
      ]
     },
     "execution_count": 160,
     "metadata": {},
     "output_type": "execute_result"
    }
   ],
   "source": [
    "# Conferência\n",
    "Queimadas_Pantanal[Queimadas_Pantanal['ALERTA_FOGO']== True]"
   ]
  },
  {
   "cell_type": "code",
   "execution_count": 161,
   "metadata": {},
   "outputs": [],
   "source": [
    "# Dropando varíavel Risco Fogo\n",
    "\n",
    "Queimadas_Pantanal.drop('RISCO_FOGO', axis=1, inplace=True)"
   ]
  },
  {
   "cell_type": "code",
   "execution_count": 162,
   "metadata": {},
   "outputs": [
    {
     "data": {
      "text/plain": [
       "Index(['DATE', 'DIAS_SEM_CHUVA', 'PRECIPITACAO_DIARIA', 'PRESSAO_ATMOSFERICA',\n",
       "       'TEMPERATURA_PONTO_DE_ORVALHO', 'TEMPERATURA_MAXIMA',\n",
       "       'TEMPERATURA_MEDIA', 'TEMPERATURA_MINIMA',\n",
       "       'UMIDADE_RELATIVA_DO_AR_MEDIA', 'UMIDADE_RELATIVA_MINIMA_DO_AR',\n",
       "       'VENTO_RAJADA_MAXIMA', 'VENTO_VELOCIDADE_MEDIA', 'ALERTA_FOGO'],\n",
       "      dtype='object')"
      ]
     },
     "execution_count": 162,
     "metadata": {},
     "output_type": "execute_result"
    }
   ],
   "source": [
    "Queimadas_Pantanal.columns"
   ]
  },
  {
   "cell_type": "markdown",
   "metadata": {},
   "source": [
    "## Criação variável Mês"
   ]
  },
  {
   "cell_type": "code",
   "execution_count": 163,
   "metadata": {
    "scrolled": true
   },
   "outputs": [],
   "source": [
    "Queimadas_Pantanal['DATE'] = pd.to_datetime(Queimadas_Pantanal['DATE'])\n",
    "Queimadas_Pantanal['MONTH'] = Queimadas_Pantanal['DATE'].dt.month"
   ]
  },
  {
   "cell_type": "code",
   "execution_count": 164,
   "metadata": {},
   "outputs": [],
   "source": [
    "Queimadas_Pantanal.drop('DATE', axis=1, inplace=True)"
   ]
  },
  {
   "cell_type": "code",
   "execution_count": 165,
   "metadata": {},
   "outputs": [
    {
     "data": {
      "text/plain": [
       "Index(['DIAS_SEM_CHUVA', 'PRECIPITACAO_DIARIA', 'PRESSAO_ATMOSFERICA',\n",
       "       'TEMPERATURA_PONTO_DE_ORVALHO', 'TEMPERATURA_MAXIMA',\n",
       "       'TEMPERATURA_MEDIA', 'TEMPERATURA_MINIMA',\n",
       "       'UMIDADE_RELATIVA_DO_AR_MEDIA', 'UMIDADE_RELATIVA_MINIMA_DO_AR',\n",
       "       'VENTO_RAJADA_MAXIMA', 'VENTO_VELOCIDADE_MEDIA', 'ALERTA_FOGO',\n",
       "       'MONTH'],\n",
       "      dtype='object')"
      ]
     },
     "execution_count": 165,
     "metadata": {},
     "output_type": "execute_result"
    }
   ],
   "source": [
    "Queimadas_Pantanal.columns"
   ]
  },
  {
   "cell_type": "markdown",
   "metadata": {},
   "source": [
    "# Split Treino e Teste"
   ]
  },
  {
   "cell_type": "code",
   "execution_count": 166,
   "metadata": {},
   "outputs": [],
   "source": [
    "# SPLIT DO DATAFRAME EM TREINO E TESTE\n",
    "df_train, df_test = train_test_split(Queimadas_Pantanal, test_size=0.2, random_state=42)"
   ]
  },
  {
   "cell_type": "code",
   "execution_count": 167,
   "metadata": {},
   "outputs": [],
   "source": [
    "X_train = df_train.drop('ALERTA_FOGO', axis=1)\n",
    "y_train = df_train['ALERTA_FOGO']"
   ]
  },
  {
   "cell_type": "code",
   "execution_count": 168,
   "metadata": {},
   "outputs": [
    {
     "data": {
      "text/plain": [
       "((2049, 13), (513, 13))"
      ]
     },
     "execution_count": 168,
     "metadata": {},
     "output_type": "execute_result"
    }
   ],
   "source": [
    "df_train.shape, df_test.shape"
   ]
  },
  {
   "cell_type": "code",
   "execution_count": 169,
   "metadata": {},
   "outputs": [
    {
     "data": {
      "text/plain": [
       "1134    0\n",
       "1223    0\n",
       "1927    1\n",
       "2163    0\n",
       "707     1\n",
       "       ..\n",
       "1638    0\n",
       "1095    1\n",
       "1130    1\n",
       "1294    1\n",
       "860     0\n",
       "Name: ALERTA_FOGO, Length: 2049, dtype: int32"
      ]
     },
     "execution_count": 169,
     "metadata": {},
     "output_type": "execute_result"
    }
   ],
   "source": [
    "y_train"
   ]
  },
  {
   "cell_type": "code",
   "execution_count": 170,
   "metadata": {},
   "outputs": [],
   "source": [
    "target = ['ALERTA_FOGO']\n",
    "num_cols = ['DIAS_SEM_CHUVA','PRECIPITACAO_DIARIA','PRESSAO_ATMOSFERICA','TEMPERATURA_PONTO_DE_ORVALHO','TEMPERATURA_MAXIMA','TEMPERATURA_MEDIA','TEMPERATURA_MINIMA','UMIDADE_RELATIVA_DO_AR_MEDIA','UMIDADE_RELATIVA_MINIMA_DO_AR','VENTO_RAJADA_MAXIMA','VENTO_VELOCIDADE_MEDIA', 'MONTH']"
   ]
  },
  {
   "cell_type": "markdown",
   "metadata": {},
   "source": [
    "# ANOVA"
   ]
  },
  {
   "cell_type": "code",
   "execution_count": 171,
   "metadata": {},
   "outputs": [],
   "source": [
    "X_train_num = X_train[num_cols]"
   ]
  },
  {
   "cell_type": "code",
   "execution_count": 172,
   "metadata": {},
   "outputs": [],
   "source": [
    "anova_result = f_classif(X_train_num, y_train)"
   ]
  },
  {
   "cell_type": "code",
   "execution_count": 173,
   "metadata": {},
   "outputs": [],
   "source": [
    "p_values_num_features = pd.Series(anova_result[1])\n",
    "p_values_num_features.index = num_cols"
   ]
  },
  {
   "cell_type": "code",
   "execution_count": 174,
   "metadata": {},
   "outputs": [
    {
     "data": {
      "text/plain": [
       "['DIAS_SEM_CHUVA',\n",
       " 'PRESSAO_ATMOSFERICA',\n",
       " 'TEMPERATURA_PONTO_DE_ORVALHO',\n",
       " 'TEMPERATURA_MEDIA',\n",
       " 'TEMPERATURA_MINIMA',\n",
       " 'UMIDADE_RELATIVA_DO_AR_MEDIA',\n",
       " 'UMIDADE_RELATIVA_MINIMA_DO_AR',\n",
       " 'VENTO_VELOCIDADE_MEDIA',\n",
       " 'MONTH']"
      ]
     },
     "execution_count": 174,
     "metadata": {},
     "output_type": "execute_result"
    }
   ],
   "source": [
    "filter_num_features = p_values_num_features[p_values_num_features < 0.05].index.tolist()\n",
    "filter_num_features"
   ]
  },
  {
   "cell_type": "markdown",
   "metadata": {},
   "source": [
    "# Recursive Feature Elimination"
   ]
  },
  {
   "cell_type": "code",
   "execution_count": 175,
   "metadata": {},
   "outputs": [
    {
     "name": "stdout",
     "output_type": "stream",
     "text": [
      "10\n",
      "[ True False  True  True False  True  True  True  True  True  True  True]\n"
     ]
    }
   ],
   "source": [
    "# 1a Selação (Random Forest)\n",
    "forest = RandomForestRegressor(n_jobs = -1, max_depth = 5)\n",
    "\n",
    "rfecv_RFC = RFECV(estimator=forest, scoring='neg_mean_squared_error')\n",
    "rfecv_RFC.fit(X_train,y_train)\n",
    "print(rfecv_RFC.n_features_) # Número de features selecionadas como as mais importantes \n",
    "print(rfecv_RFC.support_) # Vetor de booleans. True se a variável deve ser mantida e False caso contrário\n",
    "mask_RFC = rfecv_RFC.support_\n"
   ]
  },
  {
   "cell_type": "markdown",
   "metadata": {},
   "source": [
    "# BORUTA"
   ]
  },
  {
   "cell_type": "code",
   "execution_count": 176,
   "metadata": {},
   "outputs": [],
   "source": [
    "from sklearn import preprocessing\n",
    "from sklearn.preprocessing import MinMaxScaler, RobustScaler, OneHotEncoder, StandardScaler"
   ]
  },
  {
   "cell_type": "code",
   "execution_count": 177,
   "metadata": {},
   "outputs": [],
   "source": [
    "# Inicializa o encoder\n",
    "from feature_engine.encoding import CountFrequencyEncoder\n",
    "\n",
    "# fenc = CountFrequencyEncoder(encoding_method='frequency', variables=num_cols)\n",
    "fenc = preprocessing.LabelEncoder()\n",
    "standard_scaler = StandardScaler()\n",
    "\n",
    "# Aplica a transformacao em X_train\n",
    "y_train_encoded = fenc.fit_transform(y_train)\n",
    "X_train_encoded = standard_scaler.fit_transform(X_train)"
   ]
  },
  {
   "cell_type": "code",
   "execution_count": 178,
   "metadata": {},
   "outputs": [],
   "source": [
    "# Iniacializa algoritmo Random Forest para utilizacao no Boruta\n",
    "forest = RandomForestClassifier(n_jobs=-1, max_depth=5)\n",
    "# Inicializa o Boruta\n",
    "boruta_selector = BorutaPy(forest, n_estimators=50, max_iter=100, random_state=42)"
   ]
  },
  {
   "cell_type": "code",
   "execution_count": 179,
   "metadata": {},
   "outputs": [
    {
     "data": {
      "text/html": [
       "<div>\n",
       "<style scoped>\n",
       "    .dataframe tbody tr th:only-of-type {\n",
       "        vertical-align: middle;\n",
       "    }\n",
       "\n",
       "    .dataframe tbody tr th {\n",
       "        vertical-align: top;\n",
       "    }\n",
       "\n",
       "    .dataframe thead th {\n",
       "        text-align: right;\n",
       "    }\n",
       "</style>\n",
       "<table border=\"1\" class=\"dataframe\">\n",
       "  <thead>\n",
       "    <tr style=\"text-align: right;\">\n",
       "      <th></th>\n",
       "      <th>DIAS_SEM_CHUVA</th>\n",
       "      <th>PRECIPITACAO_DIARIA</th>\n",
       "      <th>PRESSAO_ATMOSFERICA</th>\n",
       "      <th>TEMPERATURA_PONTO_DE_ORVALHO</th>\n",
       "      <th>TEMPERATURA_MAXIMA</th>\n",
       "      <th>TEMPERATURA_MEDIA</th>\n",
       "      <th>TEMPERATURA_MINIMA</th>\n",
       "      <th>UMIDADE_RELATIVA_DO_AR_MEDIA</th>\n",
       "      <th>UMIDADE_RELATIVA_MINIMA_DO_AR</th>\n",
       "      <th>VENTO_RAJADA_MAXIMA</th>\n",
       "      <th>VENTO_VELOCIDADE_MEDIA</th>\n",
       "      <th>MONTH</th>\n",
       "    </tr>\n",
       "  </thead>\n",
       "  <tbody>\n",
       "    <tr>\n",
       "      <th>1134</th>\n",
       "      <td>1.0</td>\n",
       "      <td>0.0</td>\n",
       "      <td>993.30</td>\n",
       "      <td>20.46</td>\n",
       "      <td>38.7</td>\n",
       "      <td>30.39</td>\n",
       "      <td>26.3</td>\n",
       "      <td>57.17</td>\n",
       "      <td>29.0</td>\n",
       "      <td>11.9</td>\n",
       "      <td>1.73</td>\n",
       "      <td>11</td>\n",
       "    </tr>\n",
       "    <tr>\n",
       "      <th>1223</th>\n",
       "      <td>13.0</td>\n",
       "      <td>0.0</td>\n",
       "      <td>997.49</td>\n",
       "      <td>19.38</td>\n",
       "      <td>32.7</td>\n",
       "      <td>27.45</td>\n",
       "      <td>22.6</td>\n",
       "      <td>62.46</td>\n",
       "      <td>45.0</td>\n",
       "      <td>5.1</td>\n",
       "      <td>1.03</td>\n",
       "      <td>4</td>\n",
       "    </tr>\n",
       "    <tr>\n",
       "      <th>1927</th>\n",
       "      <td>0.0</td>\n",
       "      <td>0.0</td>\n",
       "      <td>996.46</td>\n",
       "      <td>23.14</td>\n",
       "      <td>31.6</td>\n",
       "      <td>27.00</td>\n",
       "      <td>23.9</td>\n",
       "      <td>79.83</td>\n",
       "      <td>58.0</td>\n",
       "      <td>8.6</td>\n",
       "      <td>1.43</td>\n",
       "      <td>6</td>\n",
       "    </tr>\n",
       "    <tr>\n",
       "      <th>2163</th>\n",
       "      <td>0.0</td>\n",
       "      <td>0.0</td>\n",
       "      <td>0.00</td>\n",
       "      <td>0.00</td>\n",
       "      <td>29.8</td>\n",
       "      <td>0.00</td>\n",
       "      <td>22.0</td>\n",
       "      <td>70.58</td>\n",
       "      <td>58.0</td>\n",
       "      <td>0.0</td>\n",
       "      <td>0.00</td>\n",
       "      <td>6</td>\n",
       "    </tr>\n",
       "    <tr>\n",
       "      <th>707</th>\n",
       "      <td>3.0</td>\n",
       "      <td>0.0</td>\n",
       "      <td>996.79</td>\n",
       "      <td>22.65</td>\n",
       "      <td>33.5</td>\n",
       "      <td>27.79</td>\n",
       "      <td>24.6</td>\n",
       "      <td>74.42</td>\n",
       "      <td>50.0</td>\n",
       "      <td>13.0</td>\n",
       "      <td>1.45</td>\n",
       "      <td>3</td>\n",
       "    </tr>\n",
       "  </tbody>\n",
       "</table>\n",
       "</div>"
      ],
      "text/plain": [
       "      DIAS_SEM_CHUVA  PRECIPITACAO_DIARIA  PRESSAO_ATMOSFERICA  \\\n",
       "1134             1.0                  0.0               993.30   \n",
       "1223            13.0                  0.0               997.49   \n",
       "1927             0.0                  0.0               996.46   \n",
       "2163             0.0                  0.0                 0.00   \n",
       "707              3.0                  0.0               996.79   \n",
       "\n",
       "      TEMPERATURA_PONTO_DE_ORVALHO  TEMPERATURA_MAXIMA  TEMPERATURA_MEDIA  \\\n",
       "1134                         20.46                38.7              30.39   \n",
       "1223                         19.38                32.7              27.45   \n",
       "1927                         23.14                31.6              27.00   \n",
       "2163                          0.00                29.8               0.00   \n",
       "707                          22.65                33.5              27.79   \n",
       "\n",
       "      TEMPERATURA_MINIMA  UMIDADE_RELATIVA_DO_AR_MEDIA  \\\n",
       "1134                26.3                         57.17   \n",
       "1223                22.6                         62.46   \n",
       "1927                23.9                         79.83   \n",
       "2163                22.0                         70.58   \n",
       "707                 24.6                         74.42   \n",
       "\n",
       "      UMIDADE_RELATIVA_MINIMA_DO_AR  VENTO_RAJADA_MAXIMA  \\\n",
       "1134                           29.0                 11.9   \n",
       "1223                           45.0                  5.1   \n",
       "1927                           58.0                  8.6   \n",
       "2163                           58.0                  0.0   \n",
       "707                            50.0                 13.0   \n",
       "\n",
       "      VENTO_VELOCIDADE_MEDIA  MONTH  \n",
       "1134                    1.73     11  \n",
       "1223                    1.03      4  \n",
       "1927                    1.43      6  \n",
       "2163                    0.00      6  \n",
       "707                     1.45      3  "
      ]
     },
     "execution_count": 179,
     "metadata": {},
     "output_type": "execute_result"
    }
   ],
   "source": [
    "X_train.head()"
   ]
  },
  {
   "cell_type": "code",
   "execution_count": 180,
   "metadata": {},
   "outputs": [
    {
     "data": {
      "text/plain": [
       "1134    0\n",
       "1223    0\n",
       "1927    1\n",
       "2163    0\n",
       "707     1\n",
       "       ..\n",
       "1638    0\n",
       "1095    1\n",
       "1130    1\n",
       "1294    1\n",
       "860     0\n",
       "Name: ALERTA_FOGO, Length: 2049, dtype: int32"
      ]
     },
     "execution_count": 180,
     "metadata": {},
     "output_type": "execute_result"
    }
   ],
   "source": [
    "y_train"
   ]
  },
  {
   "cell_type": "code",
   "execution_count": 181,
   "metadata": {},
   "outputs": [
    {
     "data": {
      "text/plain": [
       "BorutaPy(estimator=RandomForestClassifier(max_depth=5, n_estimators=50,\n",
       "                                          n_jobs=-1,\n",
       "                                          random_state=RandomState(MT19937) at 0x20B4CFCD640),\n",
       "         n_estimators=50, random_state=RandomState(MT19937) at 0x20B4CFCD640)"
      ]
     },
     "execution_count": 181,
     "metadata": {},
     "output_type": "execute_result"
    }
   ],
   "source": [
    "# Ajusta o Boruta sobre os dados de treino\n",
    "boruta_selector.fit(np.array(X_train), y_train)\n"
   ]
  },
  {
   "cell_type": "code",
   "execution_count": 182,
   "metadata": {},
   "outputs": [
    {
     "data": {
      "text/plain": [
       "array([ True,  True,  True,  True,  True,  True,  True,  True,  True,\n",
       "        True,  True,  True])"
      ]
     },
     "execution_count": 182,
     "metadata": {},
     "output_type": "execute_result"
    }
   ],
   "source": [
    "# Visualiza variáveis significativas\n",
    "boruta_selector.support_"
   ]
  },
  {
   "cell_type": "code",
   "execution_count": 183,
   "metadata": {},
   "outputs": [
    {
     "data": {
      "text/plain": [
       "array([False, False, False, False, False, False, False, False, False,\n",
       "       False, False, False])"
      ]
     },
     "execution_count": 183,
     "metadata": {},
     "output_type": "execute_result"
    }
   ],
   "source": [
    "# Visualiza variáveis com significancia duvidosa\n",
    "boruta_selector.support_weak_"
   ]
  },
  {
   "cell_type": "code",
   "execution_count": 184,
   "metadata": {},
   "outputs": [],
   "source": [
    "# De acordo com os resultados de feature selection, todas as variáveis precisam ser mantidas, tendo em vista que o anova e\n",
    "# boruta consideram todas as variáveis significativas, apesar da RFECV ter rejeita a coluna de UMIDADE_RELATIVA_DO_AR_MEDIA."
   ]
  },
  {
   "cell_type": "code",
   "execution_count": 185,
   "metadata": {},
   "outputs": [],
   "source": [
    "#Exportação arquivo csv"
   ]
  },
  {
   "cell_type": "code",
   "execution_count": 186,
   "metadata": {},
   "outputs": [],
   "source": [
    "Queimadas_Pantanal.to_csv('Queimadas_Pantanal_FS.csv', index = False)"
   ]
  },
  {
   "cell_type": "markdown",
   "metadata": {},
   "source": [
    "# DATA PREP - Rever"
   ]
  },
  {
   "cell_type": "code",
   "execution_count": 78,
   "metadata": {},
   "outputs": [],
   "source": [
    "# # Define step para features numéricas\n",
    "# pipe_num_features = (\n",
    "#     'robust_scaler',\n",
    "#     RobustScaler(),\n",
    "#     num_cols_updated\n",
    "# )"
   ]
  },
  {
   "cell_type": "code",
   "execution_count": 79,
   "metadata": {},
   "outputs": [],
   "source": [
    "# # Cria ColumnTransformer para preprocessamento\n",
    "# transformers = [pipe_cat_features, pipe_num_features]\n",
    "# pipe_transformers = ColumnTransformer(transformers)"
   ]
  }
 ],
 "metadata": {
  "kernelspec": {
   "display_name": "Python 3 (ipykernel)",
   "language": "python",
   "name": "python3"
  },
  "language_info": {
   "codemirror_mode": {
    "name": "ipython",
    "version": 3
   },
   "file_extension": ".py",
   "mimetype": "text/x-python",
   "name": "python",
   "nbconvert_exporter": "python",
   "pygments_lexer": "ipython3",
   "version": "3.9.7"
  }
 },
 "nbformat": 4,
 "nbformat_minor": 4
}
